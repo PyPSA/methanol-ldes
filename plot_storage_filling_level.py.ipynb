{
 "cells": [
  {
   "cell_type": "code",
   "execution_count": null,
   "id": "9a2e6d47",
   "metadata": {},
   "outputs": [],
   "source": [
    "import pypsa\n",
    "import matplotlib.pyplot as plt\n",
    "import numpy as np\n",
    "import pandas as pd\n",
    "\n",
    "import seaborn as sns\n",
    "\n",
    "sns.set_style(\"ticks\")"
   ]
  },
  {
   "cell_type": "code",
   "execution_count": null,
   "id": "17c49ebd",
   "metadata": {},
   "outputs": [],
   "source": [
    "if \"snakemake\" not in globals():\n",
    "    # For runs outside snakemake, simple mock_snakemake\n",
    "    from types import SimpleNamespace\n",
    "    folder = \"summaries/230509-71a-fixasu/\"\n",
    "\n",
    "    member = {\n",
    "        \"input\": {\n",
    "            \"methanol\": \"networks/230509-71a-fixasu/DE-71a-1H-H2s-wm-nH2t-mflex0-ramp10.nc\",\n",
    "            \"hydrogen\": \"networks/230509-71a-fixasu/DE-71a-1H-H2u.nc\",\n",
    "            },\n",
    "        \"output\": {\"figure\": \"filling_level.pdf\"}\n",
    "    }\n",
    "    snakemake = SimpleNamespace(**member)"
   ]
  },
  {
   "cell_type": "code",
   "execution_count": null,
   "id": "a07180a2",
   "metadata": {},
   "outputs": [],
   "source": [
    "n = {}\n",
    "n[\"m\"] = pypsa.Network(snakemake.input[\"methanol\"])\n",
    "n[\"h\"] = pypsa.Network(snakemake.input[\"hydrogen\"])"
   ]
  },
  {
   "cell_type": "code",
   "execution_count": null,
   "id": "ab9f51aa",
   "metadata": {},
   "outputs": [],
   "source": [
    "fig, ax = plt.subplots()\n",
    "fig.set_size_inches((6,4))\n",
    "\n",
    "\n",
    "(n[\"h\"].stores_t.e[\"hydrogen_energy\"]/100/24).plot(ax=ax,label=\"underground hydrogen\")\n",
    "(n[\"m\"].stores_t.e[\"methanol\"]/100/24).plot(ax=ax,label=\"methanol\")\n",
    "\n",
    "ax.set_ylabel(\"storage filling level [days of demand]\")\n",
    "ax.set_ylim([0,np.ceil(ax.get_ylim()[1]/20)*20])\n",
    "ax.set_xlabel(\"\")\n",
    "ax.legend(loc=\"upper right\")\n",
    "\n",
    "\n",
    "fig.savefig(snakemake.output[\"figure\"],\n",
    "            transparent=True,\n",
    "            bbox_inches='tight')"
   ]
  },
  {
   "cell_type": "code",
   "execution_count": null,
   "id": "09e9c799",
   "metadata": {},
   "outputs": [],
   "source": [
    "n[\"m\"].stores_t.e[\"oxygen storage\"].plot()"
   ]
  },
  {
   "cell_type": "code",
   "execution_count": null,
   "id": "9764b211",
   "metadata": {},
   "outputs": [],
   "source": [
    "n[\"m\"].stores_t.e[\"co2\"].plot()"
   ]
  },
  {
   "cell_type": "code",
   "execution_count": null,
   "id": "bcd4563a",
   "metadata": {},
   "outputs": [],
   "source": [
    "s = n[\"m\"].stores_t.e[\"methanol\"]\n",
    "\n",
    "fft = abs(pd.Series(np.fft.rfft(s - s.mean()),   # subtract mean!\n",
    "                    index=np.fft.rfftfreq(len(s), d=1/len(s)))**2)"
   ]
  },
  {
   "cell_type": "code",
   "execution_count": null,
   "id": "c430aa0a",
   "metadata": {},
   "outputs": [],
   "source": [
    "fft.plot()\n",
    "#plt.xlim(0, 768)\n",
    "plt.xlabel('1 / 71a')\n",
    "plt.ylim(0,1e20)\n",
    "plt.xlim(0,100)"
   ]
  }
 ],
 "metadata": {
  "kernelspec": {
   "display_name": "Python 3",
   "language": "python",
   "name": "python3"
  },
  "language_info": {
   "codemirror_mode": {
    "name": "ipython",
    "version": 3
   },
   "file_extension": ".py",
   "mimetype": "text/x-python",
   "name": "python",
   "nbconvert_exporter": "python",
   "pygments_lexer": "ipython3",
   "version": "3.11.3"
  }
 },
 "nbformat": 4,
 "nbformat_minor": 5
}
